{
  "nbformat": 4,
  "nbformat_minor": 0,
  "metadata": {
    "colab": {
      "name": "Lsd_math_score_Aischol_Princess (1).ipynb",
      "provenance": [],
      "collapsed_sections": [],
      "include_colab_link": true
    },
    "kernelspec": {
      "name": "python3",
      "display_name": "Python 3"
    },
    "language_info": {
      "name": "python"
    }
  },
  "cells": [
    {
      "cell_type": "markdown",
      "metadata": {
        "id": "view-in-github",
        "colab_type": "text"
      },
      "source": [
        "<a href=\"https://colab.research.google.com/github/Princess-Mcdonald/Ai-school-princess/blob/main/Lsd_math_score_Aischol_Princess_(1).ipynb\" target=\"_parent\"><img src=\"https://colab.research.google.com/assets/colab-badge.svg\" alt=\"Open In Colab\"/></a>"
      ]
    },
    {
      "cell_type": "code",
      "execution_count": null,
      "metadata": {
        "id": "Tt3U5nIszvgS"
      },
      "outputs": [],
      "source": [
        "import pandas as pd\n",
        "import matplotlib.pyplot as plt"
      ]
    },
    {
      "cell_type": "code",
      "source": [
        "data = pd.read_csv('/content/lsd_math_score_data.csv')"
      ],
      "metadata": {
        "id": "EI2MglUn9Zol"
      },
      "execution_count": null,
      "outputs": []
    },
    {
      "cell_type": "code",
      "source": [
        "print(data)"
      ],
      "metadata": {
        "colab": {
          "base_uri": "https://localhost:8080/"
        },
        "id": "POvXd9vI0rPQ",
        "outputId": "7f1c8aa2-1036-4cbc-d238-cb4fdaf66827"
      },
      "execution_count": null,
      "outputs": [
        {
          "output_type": "stream",
          "name": "stdout",
          "text": [
            "   Time_Delay_in_Minutes  LSD_ppm  Avg_Math_Test_Score\n",
            "0                      5     1.17                78.93\n",
            "1                     15     2.97                58.20\n",
            "2                     30     3.26                67.47\n",
            "3                     60     4.69                37.47\n",
            "4                    120     5.83                45.65\n",
            "5                    240     6.00                32.92\n",
            "6                    480     6.41                29.97\n"
          ]
        }
      ]
    },
    {
      "cell_type": "code",
      "source": [
        "type(data)"
      ],
      "metadata": {
        "colab": {
          "base_uri": "https://localhost:8080/"
        },
        "id": "39absRY50yK5",
        "outputId": "b6cc4b4f-ac74-44b7-df9b-b9337a40d5bc"
      },
      "execution_count": null,
      "outputs": [
        {
          "output_type": "execute_result",
          "data": {
            "text/plain": [
              "pandas.core.frame.DataFrame"
            ]
          },
          "metadata": {},
          "execution_count": 120
        }
      ]
    },
    {
      "cell_type": "code",
      "source": [
        "# extacting a data from a single column\n",
        "data['Avg_Math_Test_Score']"
      ],
      "metadata": {
        "colab": {
          "base_uri": "https://localhost:8080/"
        },
        "id": "abJqJyGY01Sz",
        "outputId": "8b43a69e-8890-41c8-b3f8-f92e25d618c4"
      },
      "execution_count": null,
      "outputs": [
        {
          "output_type": "execute_result",
          "data": {
            "text/plain": [
              "0    78.93\n",
              "1    58.20\n",
              "2    67.47\n",
              "3    37.47\n",
              "4    45.65\n",
              "5    32.92\n",
              "6    29.97\n",
              "Name: Avg_Math_Test_Score, dtype: float64"
            ]
          },
          "metadata": {},
          "execution_count": 121
        }
      ]
    },
    {
      "cell_type": "code",
      "source": [
        "# storing a dataframe in a variable\n",
        "onlymathscores = data['Avg_Math_Test_Score']\n",
        "print(onlymathscores)"
      ],
      "metadata": {
        "colab": {
          "base_uri": "https://localhost:8080/"
        },
        "id": "d9wA6umg2a89",
        "outputId": "9cd1d4ae-eabf-4d6c-f98a-bb8e61fd534a"
      },
      "execution_count": null,
      "outputs": [
        {
          "output_type": "stream",
          "name": "stdout",
          "text": [
            "0    78.93\n",
            "1    58.20\n",
            "2    67.47\n",
            "3    37.47\n",
            "4    45.65\n",
            "5    32.92\n",
            "6    29.97\n",
            "Name: Avg_Math_Test_Score, dtype: float64\n"
          ]
        }
      ]
    },
    {
      "cell_type": "code",
      "source": [
        " # adding a column\n",
        " data['Test_Subject'] = 'Jennifer Lopez'"
      ],
      "metadata": {
        "id": "ghYOpE_w3RiV"
      },
      "execution_count": null,
      "outputs": []
    },
    {
      "cell_type": "code",
      "source": [
        "print(data)"
      ],
      "metadata": {
        "colab": {
          "base_uri": "https://localhost:8080/"
        },
        "id": "jVj0YAp-4oO4",
        "outputId": "d0322dde-7621-4fbc-81fe-f918f6c39d5c"
      },
      "execution_count": null,
      "outputs": [
        {
          "output_type": "stream",
          "name": "stdout",
          "text": [
            "   Time_Delay_in_Minutes  LSD_ppm  Avg_Math_Test_Score    Test_Subject\n",
            "0                      5     1.17                78.93  Jennifer Lopez\n",
            "1                     15     2.97                58.20  Jennifer Lopez\n",
            "2                     30     3.26                67.47  Jennifer Lopez\n",
            "3                     60     4.69                37.47  Jennifer Lopez\n",
            "4                    120     5.83                45.65  Jennifer Lopez\n",
            "5                    240     6.00                32.92  Jennifer Lopez\n",
            "6                    480     6.41                29.97  Jennifer Lopez\n"
          ]
        }
      ]
    },
    {
      "cell_type": "code",
      "source": [
        "# Manipulating the value of a column\n",
        "data ['High_score'] = 100"
      ],
      "metadata": {
        "id": "vqRcXFrh5d6K"
      },
      "execution_count": null,
      "outputs": []
    },
    {
      "cell_type": "code",
      "source": [
        "print(data)"
      ],
      "metadata": {
        "colab": {
          "base_uri": "https://localhost:8080/"
        },
        "id": "4ENCyrSG6DB5",
        "outputId": "fea08d32-33cc-4c87-fcae-dc737d638dbc"
      },
      "execution_count": null,
      "outputs": [
        {
          "output_type": "stream",
          "name": "stdout",
          "text": [
            "   Time_Delay_in_Minutes  LSD_ppm  Avg_Math_Test_Score    Test_Subject  \\\n",
            "0                      5     1.17                78.93  Jennifer Lopez   \n",
            "1                     15     2.97                58.20  Jennifer Lopez   \n",
            "2                     30     3.26                67.47  Jennifer Lopez   \n",
            "3                     60     4.69                37.47  Jennifer Lopez   \n",
            "4                    120     5.83                45.65  Jennifer Lopez   \n",
            "5                    240     6.00                32.92  Jennifer Lopez   \n",
            "6                    480     6.41                29.97  Jennifer Lopez   \n",
            "\n",
            "   High_score  \n",
            "0         100  \n",
            "1         100  \n",
            "2         100  \n",
            "3         100  \n",
            "4         100  \n",
            "5         100  \n",
            "6         100  \n"
          ]
        }
      ]
    },
    {
      "cell_type": "code",
      "source": [
        "# Challenge: Overwrite the values in rows for High_score to equal Avg_Math_Test_Score + 100 (How to add 2 columns together)\n",
        "data['High_score'] = data['High_score'] + data['Avg_Math_Test_Score']\n",
        "print(data)"
      ],
      "metadata": {
        "colab": {
          "base_uri": "https://localhost:8080/"
        },
        "id": "8zJEvIjt6HWQ",
        "outputId": "3ed55cf2-78bd-4430-e209-3784f0c65b3a"
      },
      "execution_count": null,
      "outputs": [
        {
          "output_type": "stream",
          "name": "stdout",
          "text": [
            "   Time_Delay_in_Minutes  LSD_ppm  Avg_Math_Test_Score    Test_Subject  \\\n",
            "0                      5     1.17                78.93  Jennifer Lopez   \n",
            "1                     15     2.97                58.20  Jennifer Lopez   \n",
            "2                     30     3.26                67.47  Jennifer Lopez   \n",
            "3                     60     4.69                37.47  Jennifer Lopez   \n",
            "4                    120     5.83                45.65  Jennifer Lopez   \n",
            "5                    240     6.00                32.92  Jennifer Lopez   \n",
            "6                    480     6.41                29.97  Jennifer Lopez   \n",
            "\n",
            "   High_score  \n",
            "0      178.93  \n",
            "1      158.20  \n",
            "2      167.47  \n",
            "3      137.47  \n",
            "4      145.65  \n",
            "5      132.92  \n",
            "6      129.97  \n"
          ]
        }
      ]
    },
    {
      "cell_type": "code",
      "source": [
        "# Challenge: Square the values stored inside High_score\n",
        "data ['High_score'] = data ['High_score'] ** 2\n",
        "print(data)"
      ],
      "metadata": {
        "colab": {
          "base_uri": "https://localhost:8080/"
        },
        "id": "d8WJd5sP7h7R",
        "outputId": "f0be142b-cd27-4209-973e-8c1751703d01"
      },
      "execution_count": null,
      "outputs": [
        {
          "output_type": "stream",
          "name": "stdout",
          "text": [
            "   Time_Delay_in_Minutes  LSD_ppm  Avg_Math_Test_Score    Test_Subject  \\\n",
            "0                      5     1.17                78.93  Jennifer Lopez   \n",
            "1                     15     2.97                58.20  Jennifer Lopez   \n",
            "2                     30     3.26                67.47  Jennifer Lopez   \n",
            "3                     60     4.69                37.47  Jennifer Lopez   \n",
            "4                    120     5.83                45.65  Jennifer Lopez   \n",
            "5                    240     6.00                32.92  Jennifer Lopez   \n",
            "6                    480     6.41                29.97  Jennifer Lopez   \n",
            "\n",
            "   High_score  \n",
            "0  32015.9449  \n",
            "1  25027.2400  \n",
            "2  28046.2009  \n",
            "3  18898.0009  \n",
            "4  21213.9225  \n",
            "5  17667.7264  \n",
            "6  16892.2009  \n"
          ]
        }
      ]
    },
    {
      "cell_type": "code",
      "source": [
        "type(onlymathscores)"
      ],
      "metadata": {
        "colab": {
          "base_uri": "https://localhost:8080/"
        },
        "id": "B9mCJQqC9NAQ",
        "outputId": "69ebe9e2-c54c-4520-804c-ac8df96277d5"
      },
      "execution_count": null,
      "outputs": [
        {
          "output_type": "execute_result",
          "data": {
            "text/plain": [
              "pandas.core.series.Series"
            ]
          },
          "metadata": {},
          "execution_count": 129
        }
      ]
    },
    {
      "cell_type": "code",
      "source": [
        "# creating a sub dataframe from the main dataframe\n",
        "# Challenge: create a list called columnList. Put 'LSD_ppm' and 'Avg_Math_Test_Score' inside.\n",
        "# columnList = ['LSD_ppm', 'Avg_Math_Test_Score']\n",
        "# subDataFrame = data[columnList]\n",
        "subDataFrame = data[['LSD_ppm', 'Avg_Math_Test_Score']]\n",
        "print(subDataFrame)"
      ],
      "metadata": {
        "colab": {
          "base_uri": "https://localhost:8080/"
        },
        "id": "a0QkCRc3CuFN",
        "outputId": "71d9da10-ecbe-4845-9d7b-c66850d8455a"
      },
      "execution_count": null,
      "outputs": [
        {
          "output_type": "stream",
          "name": "stdout",
          "text": [
            "   LSD_ppm  Avg_Math_Test_Score\n",
            "0     1.17                78.93\n",
            "1     2.97                58.20\n",
            "2     3.26                67.47\n",
            "3     4.69                37.47\n",
            "4     5.83                45.65\n",
            "5     6.00                32.92\n",
            "6     6.41                29.97\n"
          ]
        }
      ]
    },
    {
      "cell_type": "code",
      "source": [
        "# creating a dataframe with a single column(will be used when working with Sickit Learn)\n",
        "y = data[['Avg_Math_Test_Score']]\n",
        "print(y)\n",
        "type(y)"
      ],
      "metadata": {
        "colab": {
          "base_uri": "https://localhost:8080/"
        },
        "id": "rAL9AVPpE_gd",
        "outputId": "053a8f1d-ad30-4cdc-c4b5-8142f5653914"
      },
      "execution_count": null,
      "outputs": [
        {
          "output_type": "stream",
          "name": "stdout",
          "text": [
            "   Avg_Math_Test_Score\n",
            "0                78.93\n",
            "1                58.20\n",
            "2                67.47\n",
            "3                37.47\n",
            "4                45.65\n",
            "5                32.92\n",
            "6                29.97\n"
          ]
        },
        {
          "output_type": "execute_result",
          "data": {
            "text/plain": [
              "pandas.core.frame.DataFrame"
            ]
          },
          "metadata": {},
          "execution_count": 131
        }
      ]
    },
    {
      "cell_type": "code",
      "source": [
        "# Challenge: 1) Create a variable called x\n",
        "#  Set x equal to the values of LSD_ppm\n",
        "#  Make sure x is a dataframe\n",
        "# 2)Print the value of x\n",
        "# 3) Show the type of x\n",
        "x = data[['LSD_ppm']]\n",
        "print(x)\n",
        "type(x)"
      ],
      "metadata": {
        "colab": {
          "base_uri": "https://localhost:8080/"
        },
        "id": "IMu3WPZHHOdn",
        "outputId": "48bb70de-5a19-46f2-9f91-0fdeafdd2ffe"
      },
      "execution_count": null,
      "outputs": [
        {
          "output_type": "stream",
          "name": "stdout",
          "text": [
            "   LSD_ppm\n",
            "0     1.17\n",
            "1     2.97\n",
            "2     3.26\n",
            "3     4.69\n",
            "4     5.83\n",
            "5     6.00\n",
            "6     6.41\n"
          ]
        },
        {
          "output_type": "execute_result",
          "data": {
            "text/plain": [
              "pandas.core.frame.DataFrame"
            ]
          },
          "metadata": {},
          "execution_count": 132
        }
      ]
    },
    {
      "cell_type": "code",
      "source": [
        "del data['Test_Subject']\n",
        "print(data)"
      ],
      "metadata": {
        "colab": {
          "base_uri": "https://localhost:8080/"
        },
        "id": "kwZq1j1RKr4H",
        "outputId": "e6216523-14b6-4008-cdbd-0edec5796ca4"
      },
      "execution_count": null,
      "outputs": [
        {
          "output_type": "stream",
          "name": "stdout",
          "text": [
            "   Time_Delay_in_Minutes  LSD_ppm  Avg_Math_Test_Score  High_score\n",
            "0                      5     1.17                78.93  32015.9449\n",
            "1                     15     2.97                58.20  25027.2400\n",
            "2                     30     3.26                67.47  28046.2009\n",
            "3                     60     4.69                37.47  18898.0009\n",
            "4                    120     5.83                45.65  21213.9225\n",
            "5                    240     6.00                32.92  17667.7264\n",
            "6                    480     6.41                29.97  16892.2009\n"
          ]
        }
      ]
    },
    {
      "cell_type": "code",
      "source": [
        "# Challenge: Delete High_Score column from data\n",
        "del data['High_score']\n",
        "print(data)"
      ],
      "metadata": {
        "colab": {
          "base_uri": "https://localhost:8080/"
        },
        "id": "gKWKx7zBObxE",
        "outputId": "97229520-2c92-4810-b7a9-c9656d7e1b18"
      },
      "execution_count": null,
      "outputs": [
        {
          "output_type": "stream",
          "name": "stdout",
          "text": [
            "   Time_Delay_in_Minutes  LSD_ppm  Avg_Math_Test_Score\n",
            "0                      5     1.17                78.93\n",
            "1                     15     2.97                58.20\n",
            "2                     30     3.26                67.47\n",
            "3                     60     4.69                37.47\n",
            "4                    120     5.83                45.65\n",
            "5                    240     6.00                32.92\n",
            "6                    480     6.41                29.97\n"
          ]
        }
      ]
    },
    {
      "cell_type": "code",
      "source": [
        "import life as hitchhickersGuide"
      ],
      "metadata": {
        "id": "OaZZvz0hOyjw"
      },
      "execution_count": null,
      "outputs": []
    },
    {
      "cell_type": "code",
      "source": [
        "type(hitchhickersGuide)"
      ],
      "metadata": {
        "colab": {
          "base_uri": "https://localhost:8080/"
        },
        "id": "SCDHYsPkgx-E",
        "outputId": "0a9c7e6a-470e-4156-ca66-d6b152e624c1"
      },
      "execution_count": null,
      "outputs": [
        {
          "output_type": "execute_result",
          "data": {
            "text/plain": [
              "module"
            ]
          },
          "metadata": {},
          "execution_count": 136
        }
      ]
    },
    {
      "cell_type": "code",
      "source": [
        "hitchhickersGuide.theAnswer"
      ],
      "metadata": {
        "colab": {
          "base_uri": "https://localhost:8080/"
        },
        "id": "UDTL07JTg1HC",
        "outputId": "de2bcc67-1eca-4483-cc73-71742c9069bb"
      },
      "execution_count": null,
      "outputs": [
        {
          "output_type": "execute_result",
          "data": {
            "text/plain": [
              "42"
            ]
          },
          "metadata": {},
          "execution_count": 137
        }
      ]
    },
    {
      "cell_type": "code",
      "source": [
        "# Challenge: 1) import math module 2) print out value of pi  3) print out value of e\n",
        "import math\n",
        "math.pi"
      ],
      "metadata": {
        "colab": {
          "base_uri": "https://localhost:8080/"
        },
        "id": "t-GFiSWMg8ky",
        "outputId": "7b50fb1e-425a-4388-d0c2-afa2412567d0"
      },
      "execution_count": null,
      "outputs": [
        {
          "output_type": "execute_result",
          "data": {
            "text/plain": [
              "3.141592653589793"
            ]
          },
          "metadata": {},
          "execution_count": 138
        }
      ]
    },
    {
      "cell_type": "code",
      "source": [
        "math.e"
      ],
      "metadata": {
        "colab": {
          "base_uri": "https://localhost:8080/"
        },
        "id": "kTRby3pviD35",
        "outputId": "e4c08430-b3ca-4ec3-9a50-9a9d0fb571cb"
      },
      "execution_count": null,
      "outputs": [
        {
          "output_type": "execute_result",
          "data": {
            "text/plain": [
              "2.718281828459045"
            ]
          },
          "metadata": {},
          "execution_count": 139
        }
      ]
    },
    {
      "cell_type": "code",
      "source": [
        "from life import theAnswer"
      ],
      "metadata": {
        "id": "AxQF4AyziIP-"
      },
      "execution_count": null,
      "outputs": []
    },
    {
      "cell_type": "code",
      "source": [
        "myFavouriteNumber = theAnswer\n",
        "print(myFavouriteNumber)"
      ],
      "metadata": {
        "colab": {
          "base_uri": "https://localhost:8080/"
        },
        "id": "SVmelHWwjiuz",
        "outputId": "825e84d7-d91c-4fc2-d4b5-bc1094ce6797"
      },
      "execution_count": null,
      "outputs": [
        {
          "output_type": "stream",
          "name": "stdout",
          "text": [
            "42\n"
          ]
        }
      ]
    },
    {
      "cell_type": "markdown",
      "source": [
        ""
      ],
      "metadata": {
        "id": "wic1-gLaBa08"
      }
    },
    {
      "cell_type": "code",
      "source": [
        "theAnswer = theAnswer + 1\n",
        "print(theAnswer)"
      ],
      "metadata": {
        "colab": {
          "base_uri": "https://localhost:8080/"
        },
        "id": "r45CPSxBj8-N",
        "outputId": "06054436-5afc-4f52-e793-611537582551"
      },
      "execution_count": null,
      "outputs": [
        {
          "output_type": "stream",
          "name": "stdout",
          "text": [
            "43\n"
          ]
        }
      ]
    },
    {
      "cell_type": "code",
      "source": [
        "hitchhickersGuide.quote_marvin()"
      ],
      "metadata": {
        "colab": {
          "base_uri": "https://localhost:8080/"
        },
        "id": "mwMcvYgU-ebi",
        "outputId": "2172564c-5ec8-432e-8e30-2c4b7e4f4642"
      },
      "execution_count": null,
      "outputs": [
        {
          "output_type": "stream",
          "name": "stdout",
          "text": [
            "I've have calculated your chances of survival. But I don't think you'll like it \n"
          ]
        }
      ]
    },
    {
      "cell_type": "code",
      "source": [
        "# hitchhickersGuide.square_root(67)"
      ],
      "metadata": {
        "id": "1avCuJqYkKRL"
      },
      "execution_count": null,
      "outputs": []
    },
    {
      "cell_type": "code",
      "source": [
        "time = data['Time_Delay_in_Minutes']\n",
        "LSD = data['LSD_ppm']\n",
        "score = data['Avg_Math_Test_Score']"
      ],
      "metadata": {
        "id": "LCPcGxTHsNrp"
      },
      "execution_count": null,
      "outputs": []
    },
    {
      "cell_type": "code",
      "source": [
        "%matplotlib inline\n",
        "\n",
        "plt.title('Tissue concentration of LSD over time', fontsize=17)\n",
        "plt.xlabel('Time in Minutes', fontsize=14)\n",
        "plt.ylabel('Tissue LSD ppm', fontsize=14)\n",
        "plt.text(x=0, y=-0.5, s='wagner et al. (1968)', fontsize=12)\n",
        "plt.xticks(fontsize=14)\n",
        "plt.yticks(fontsize=14)\n",
        "\n",
        "plt.ylim(1,7)\n",
        "plt.xlim(0,500)\n",
        "\n",
        "plt.style.use('classic')\n",
        "\n",
        "plt.plot(time, LSD, color='#e74c3c', linewidth=3)\n",
        "plt.show()\n"
      ],
      "metadata": {
        "colab": {
          "base_uri": "https://localhost:8080/",
          "height": 536
        },
        "id": "G0isF7Sp7ZyT",
        "outputId": "ff2aaf58-9e88-46fa-d9c7-7ce0c7546ed4"
      },
      "execution_count": null,
      "outputs": [
        {
          "output_type": "display_data",
          "data": {
            "text/plain": [
              "<Figure size 640x480 with 1 Axes>"
            ],
            "image/png": "[encoded data removed]"
          },
          "metadata": {}
        }
      ]
    },
    {
      "cell_type": "code",
      "source": [
        ""
      ],
      "metadata": {
        "id": "3QfG5xea9Alk"
      },
      "execution_count": null,
      "outputs": []
    }
  ]
}