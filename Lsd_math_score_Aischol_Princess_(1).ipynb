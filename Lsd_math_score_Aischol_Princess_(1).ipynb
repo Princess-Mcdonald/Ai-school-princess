{
  "nbformat": 4,
  "nbformat_minor": 0,
  "metadata": {
    "colab": {
      "name": "Lsd_math_score_Aischol_Princess (1).ipynb",
      "provenance": [],
      "collapsed_sections": [],
      "include_colab_link": true
    },
    "kernelspec": {
      "name": "python3",
      "display_name": "Python 3"
    },
    "language_info": {
      "name": "python"
    }
  },
  "cells": [
    {
      "cell_type": "markdown",
      "metadata": {
        "id": "view-in-github",
        "colab_type": "text"
      },
      "source": [
        "<a href=\"https://colab.research.google.com/github/Princess-Mcdonald/Ai-school-princess/blob/main/Lsd_math_score_Aischol_Princess_(1).ipynb\" target=\"_parent\"><img src=\"https://colab.research.google.com/assets/colab-badge.svg\" alt=\"Open In Colab\"/></a>"
      ]
    },
    {
      "cell_type": "code",
      "execution_count": 107,
      "metadata": {
        "id": "Tt3U5nIszvgS"
      },
      "outputs": [],
      "source": [
        "import pandas as pd\n",
        "import matplotlib.pyplot as plt\n",
        "from sklearn.linear_model import LinearRegression"
      ]
    },
    {
      "cell_type": "code",
      "source": [
        "data = pd.read_csv('/content/lsd_math_score_data.csv')"
      ],
      "metadata": {
        "id": "EI2MglUn9Zol"
      },
      "execution_count": 108,
      "outputs": []
    },
    {
      "cell_type": "code",
      "source": [
        "print(data)"
      ],
      "metadata": {
        "colab": {
          "base_uri": "https://localhost:8080/"
        },
        "id": "POvXd9vI0rPQ",
        "outputId": "9d937b4f-4d6a-4150-b12b-7250a881695b"
      },
      "execution_count": 109,
      "outputs": [
        {
          "output_type": "stream",
          "name": "stdout",
          "text": [
            "   Time_Delay_in_Minutes  LSD_ppm  Avg_Math_Test_Score\n",
            "0                      5     1.17                78.93\n",
            "1                     15     2.97                58.20\n",
            "2                     30     3.26                67.47\n",
            "3                     60     4.69                37.47\n",
            "4                    120     5.83                45.65\n",
            "5                    240     6.00                32.92\n",
            "6                    480     6.41                29.97\n"
          ]
        }
      ]
    },
    {
      "cell_type": "code",
      "source": [
        "type(data)"
      ],
      "metadata": {
        "colab": {
          "base_uri": "https://localhost:8080/"
        },
        "id": "39absRY50yK5",
        "outputId": "49bdf4c9-2000-4e82-94a8-3d224aac1000"
      },
      "execution_count": 110,
      "outputs": [
        {
          "output_type": "execute_result",
          "data": {
            "text/plain": [
              "pandas.core.frame.DataFrame"
            ]
          },
          "metadata": {},
          "execution_count": 110
        }
      ]
    },
    {
      "cell_type": "code",
      "source": [
        "# extacting a data from a single column\n",
        "data['Avg_Math_Test_Score']"
      ],
      "metadata": {
        "colab": {
          "base_uri": "https://localhost:8080/"
        },
        "id": "abJqJyGY01Sz",
        "outputId": "9c31b494-ec38-4f91-c199-acdf97258386"
      },
      "execution_count": 111,
      "outputs": [
        {
          "output_type": "execute_result",
          "data": {
            "text/plain": [
              "0    78.93\n",
              "1    58.20\n",
              "2    67.47\n",
              "3    37.47\n",
              "4    45.65\n",
              "5    32.92\n",
              "6    29.97\n",
              "Name: Avg_Math_Test_Score, dtype: float64"
            ]
          },
          "metadata": {},
          "execution_count": 111
        }
      ]
    },
    {
      "cell_type": "code",
      "source": [
        "# storing a dataframe in a variable\n",
        "onlymathscores = data['Avg_Math_Test_Score']\n",
        "print(onlymathscores)"
      ],
      "metadata": {
        "colab": {
          "base_uri": "https://localhost:8080/"
        },
        "id": "d9wA6umg2a89",
        "outputId": "657a0240-75ae-4e1d-aad2-08081d5b26b1"
      },
      "execution_count": 112,
      "outputs": [
        {
          "output_type": "stream",
          "name": "stdout",
          "text": [
            "0    78.93\n",
            "1    58.20\n",
            "2    67.47\n",
            "3    37.47\n",
            "4    45.65\n",
            "5    32.92\n",
            "6    29.97\n",
            "Name: Avg_Math_Test_Score, dtype: float64\n"
          ]
        }
      ]
    },
    {
      "cell_type": "code",
      "source": [
        " # adding a column\n",
        " data['Test_Subject'] = 'Jennifer Lopez'"
      ],
      "metadata": {
        "id": "ghYOpE_w3RiV"
      },
      "execution_count": 113,
      "outputs": []
    },
    {
      "cell_type": "code",
      "source": [
        "print(data)"
      ],
      "metadata": {
        "colab": {
          "base_uri": "https://localhost:8080/"
        },
        "id": "jVj0YAp-4oO4",
        "outputId": "3889c57b-19b1-405d-ef9f-5c3ebf3572c5"
      },
      "execution_count": 114,
      "outputs": [
        {
          "output_type": "stream",
          "name": "stdout",
          "text": [
            "   Time_Delay_in_Minutes  LSD_ppm  Avg_Math_Test_Score    Test_Subject\n",
            "0                      5     1.17                78.93  Jennifer Lopez\n",
            "1                     15     2.97                58.20  Jennifer Lopez\n",
            "2                     30     3.26                67.47  Jennifer Lopez\n",
            "3                     60     4.69                37.47  Jennifer Lopez\n",
            "4                    120     5.83                45.65  Jennifer Lopez\n",
            "5                    240     6.00                32.92  Jennifer Lopez\n",
            "6                    480     6.41                29.97  Jennifer Lopez\n"
          ]
        }
      ]
    },
    {
      "cell_type": "code",
      "source": [
        "# Manipulating the value of a column\n",
        "data ['High_score'] = 100"
      ],
      "metadata": {
        "id": "vqRcXFrh5d6K"
      },
      "execution_count": 115,
      "outputs": []
    },
    {
      "cell_type": "code",
      "source": [
        "print(data)"
      ],
      "metadata": {
        "colab": {
          "base_uri": "https://localhost:8080/"
        },
        "id": "4ENCyrSG6DB5",
        "outputId": "c0e5ad52-c24d-4bf4-b17a-2e3709324023"
      },
      "execution_count": 116,
      "outputs": [
        {
          "output_type": "stream",
          "name": "stdout",
          "text": [
            "   Time_Delay_in_Minutes  LSD_ppm  Avg_Math_Test_Score    Test_Subject  \\\n",
            "0                      5     1.17                78.93  Jennifer Lopez   \n",
            "1                     15     2.97                58.20  Jennifer Lopez   \n",
            "2                     30     3.26                67.47  Jennifer Lopez   \n",
            "3                     60     4.69                37.47  Jennifer Lopez   \n",
            "4                    120     5.83                45.65  Jennifer Lopez   \n",
            "5                    240     6.00                32.92  Jennifer Lopez   \n",
            "6                    480     6.41                29.97  Jennifer Lopez   \n",
            "\n",
            "   High_score  \n",
            "0         100  \n",
            "1         100  \n",
            "2         100  \n",
            "3         100  \n",
            "4         100  \n",
            "5         100  \n",
            "6         100  \n"
          ]
        }
      ]
    },
    {
      "cell_type": "code",
      "source": [
        "# Challenge: Overwrite the values in rows for High_score to equal Avg_Math_Test_Score + 100 (How to add 2 columns together)\n",
        "data['High_score'] = data['High_score'] + data['Avg_Math_Test_Score']\n",
        "print(data)"
      ],
      "metadata": {
        "colab": {
          "base_uri": "https://localhost:8080/"
        },
        "id": "8zJEvIjt6HWQ",
        "outputId": "2a1a634d-9b21-4042-a4eb-e8a22d882c20"
      },
      "execution_count": 117,
      "outputs": [
        {
          "output_type": "stream",
          "name": "stdout",
          "text": [
            "   Time_Delay_in_Minutes  LSD_ppm  Avg_Math_Test_Score    Test_Subject  \\\n",
            "0                      5     1.17                78.93  Jennifer Lopez   \n",
            "1                     15     2.97                58.20  Jennifer Lopez   \n",
            "2                     30     3.26                67.47  Jennifer Lopez   \n",
            "3                     60     4.69                37.47  Jennifer Lopez   \n",
            "4                    120     5.83                45.65  Jennifer Lopez   \n",
            "5                    240     6.00                32.92  Jennifer Lopez   \n",
            "6                    480     6.41                29.97  Jennifer Lopez   \n",
            "\n",
            "   High_score  \n",
            "0      178.93  \n",
            "1      158.20  \n",
            "2      167.47  \n",
            "3      137.47  \n",
            "4      145.65  \n",
            "5      132.92  \n",
            "6      129.97  \n"
          ]
        }
      ]
    },
    {
      "cell_type": "code",
      "source": [
        "# Challenge: Square the values stored inside High_score\n",
        "data ['High_score'] = data ['High_score'] ** 2\n",
        "print(data)"
      ],
      "metadata": {
        "colab": {
          "base_uri": "https://localhost:8080/"
        },
        "id": "d8WJd5sP7h7R",
        "outputId": "7f1b4981-074e-4d75-d076-0708d6ea377b"
      },
      "execution_count": 118,
      "outputs": [
        {
          "output_type": "stream",
          "name": "stdout",
          "text": [
            "   Time_Delay_in_Minutes  LSD_ppm  Avg_Math_Test_Score    Test_Subject  \\\n",
            "0                      5     1.17                78.93  Jennifer Lopez   \n",
            "1                     15     2.97                58.20  Jennifer Lopez   \n",
            "2                     30     3.26                67.47  Jennifer Lopez   \n",
            "3                     60     4.69                37.47  Jennifer Lopez   \n",
            "4                    120     5.83                45.65  Jennifer Lopez   \n",
            "5                    240     6.00                32.92  Jennifer Lopez   \n",
            "6                    480     6.41                29.97  Jennifer Lopez   \n",
            "\n",
            "   High_score  \n",
            "0  32015.9449  \n",
            "1  25027.2400  \n",
            "2  28046.2009  \n",
            "3  18898.0009  \n",
            "4  21213.9225  \n",
            "5  17667.7264  \n",
            "6  16892.2009  \n"
          ]
        }
      ]
    },
    {
      "cell_type": "code",
      "source": [
        "type(onlymathscores)"
      ],
      "metadata": {
        "colab": {
          "base_uri": "https://localhost:8080/"
        },
        "id": "B9mCJQqC9NAQ",
        "outputId": "e8a43d41-f608-433e-8850-af52c2e197f5"
      },
      "execution_count": 119,
      "outputs": [
        {
          "output_type": "execute_result",
          "data": {
            "text/plain": [
              "pandas.core.series.Series"
            ]
          },
          "metadata": {},
          "execution_count": 119
        }
      ]
    },
    {
      "cell_type": "code",
      "source": [
        "# creating a sub dataframe from the main dataframe\n",
        "# Challenge: create a list called columnList. Put 'LSD_ppm' and 'Avg_Math_Test_Score' inside.\n",
        "# columnList = ['LSD_ppm', 'Avg_Math_Test_Score']\n",
        "# subDataFrame = data[columnList]\n",
        "subDataFrame = data[['LSD_ppm', 'Avg_Math_Test_Score']]\n",
        "print(subDataFrame)"
      ],
      "metadata": {
        "colab": {
          "base_uri": "https://localhost:8080/"
        },
        "id": "a0QkCRc3CuFN",
        "outputId": "83b2b269-06fc-44f4-c2e4-bedcc84c8a54"
      },
      "execution_count": 120,
      "outputs": [
        {
          "output_type": "stream",
          "name": "stdout",
          "text": [
            "   LSD_ppm  Avg_Math_Test_Score\n",
            "0     1.17                78.93\n",
            "1     2.97                58.20\n",
            "2     3.26                67.47\n",
            "3     4.69                37.47\n",
            "4     5.83                45.65\n",
            "5     6.00                32.92\n",
            "6     6.41                29.97\n"
          ]
        }
      ]
    },
    {
      "cell_type": "code",
      "source": [
        "# creating a dataframe with a single column(will be used when working with Sickit Learn)\n",
        "y = data[['Avg_Math_Test_Score']]\n",
        "print(y)\n",
        "type(y)"
      ],
      "metadata": {
        "colab": {
          "base_uri": "https://localhost:8080/"
        },
        "id": "rAL9AVPpE_gd",
        "outputId": "b94b4fb2-3cdd-47db-870e-71d5400d63ca"
      },
      "execution_count": 121,
      "outputs": [
        {
          "output_type": "stream",
          "name": "stdout",
          "text": [
            "   Avg_Math_Test_Score\n",
            "0                78.93\n",
            "1                58.20\n",
            "2                67.47\n",
            "3                37.47\n",
            "4                45.65\n",
            "5                32.92\n",
            "6                29.97\n"
          ]
        },
        {
          "output_type": "execute_result",
          "data": {
            "text/plain": [
              "pandas.core.frame.DataFrame"
            ]
          },
          "metadata": {},
          "execution_count": 121
        }
      ]
    },
    {
      "cell_type": "code",
      "source": [
        "# Challenge: 1) Create a variable called x\n",
        "#  Set x equal to the values of LSD_ppm\n",
        "#  Make sure x is a dataframe\n",
        "# 2)Print the value of x\n",
        "# 3) Show the type of x\n",
        "x = data[['LSD_ppm']]\n",
        "print(x)\n",
        "type(x)"
      ],
      "metadata": {
        "colab": {
          "base_uri": "https://localhost:8080/"
        },
        "id": "IMu3WPZHHOdn",
        "outputId": "ef1aa995-1da9-4925-f900-2a7e57242243"
      },
      "execution_count": 122,
      "outputs": [
        {
          "output_type": "stream",
          "name": "stdout",
          "text": [
            "   LSD_ppm\n",
            "0     1.17\n",
            "1     2.97\n",
            "2     3.26\n",
            "3     4.69\n",
            "4     5.83\n",
            "5     6.00\n",
            "6     6.41\n"
          ]
        },
        {
          "output_type": "execute_result",
          "data": {
            "text/plain": [
              "pandas.core.frame.DataFrame"
            ]
          },
          "metadata": {},
          "execution_count": 122
        }
      ]
    },
    {
      "cell_type": "code",
      "source": [
        "del data['Test_Subject']\n",
        "print(data)"
      ],
      "metadata": {
        "colab": {
          "base_uri": "https://localhost:8080/"
        },
        "id": "kwZq1j1RKr4H",
        "outputId": "5a1628c2-3d89-4cf7-c25f-f8fb93b6f82c"
      },
      "execution_count": 123,
      "outputs": [
        {
          "output_type": "stream",
          "name": "stdout",
          "text": [
            "   Time_Delay_in_Minutes  LSD_ppm  Avg_Math_Test_Score  High_score\n",
            "0                      5     1.17                78.93  32015.9449\n",
            "1                     15     2.97                58.20  25027.2400\n",
            "2                     30     3.26                67.47  28046.2009\n",
            "3                     60     4.69                37.47  18898.0009\n",
            "4                    120     5.83                45.65  21213.9225\n",
            "5                    240     6.00                32.92  17667.7264\n",
            "6                    480     6.41                29.97  16892.2009\n"
          ]
        }
      ]
    },
    {
      "cell_type": "code",
      "source": [
        "# Challenge: Delete High_Score column from data\n",
        "del data['High_score']\n",
        "print(data)"
      ],
      "metadata": {
        "colab": {
          "base_uri": "https://localhost:8080/"
        },
        "id": "gKWKx7zBObxE",
        "outputId": "92b07cdf-3a6b-468a-92f5-dc0cbefbb98f"
      },
      "execution_count": 124,
      "outputs": [
        {
          "output_type": "stream",
          "name": "stdout",
          "text": [
            "   Time_Delay_in_Minutes  LSD_ppm  Avg_Math_Test_Score\n",
            "0                      5     1.17                78.93\n",
            "1                     15     2.97                58.20\n",
            "2                     30     3.26                67.47\n",
            "3                     60     4.69                37.47\n",
            "4                    120     5.83                45.65\n",
            "5                    240     6.00                32.92\n",
            "6                    480     6.41                29.97\n"
          ]
        }
      ]
    },
    {
      "cell_type": "code",
      "source": [
        "import life as hitchhickersGuide"
      ],
      "metadata": {
        "id": "OaZZvz0hOyjw"
      },
      "execution_count": 125,
      "outputs": []
    },
    {
      "cell_type": "code",
      "source": [
        "type(hitchhickersGuide)"
      ],
      "metadata": {
        "colab": {
          "base_uri": "https://localhost:8080/"
        },
        "id": "SCDHYsPkgx-E",
        "outputId": "2b9967f3-2d98-4dff-874b-8717aad22504"
      },
      "execution_count": 126,
      "outputs": [
        {
          "output_type": "execute_result",
          "data": {
            "text/plain": [
              "module"
            ]
          },
          "metadata": {},
          "execution_count": 126
        }
      ]
    },
    {
      "cell_type": "code",
      "source": [
        "hitchhickersGuide.theAnswer"
      ],
      "metadata": {
        "colab": {
          "base_uri": "https://localhost:8080/"
        },
        "id": "UDTL07JTg1HC",
        "outputId": "7065fd92-3e4e-4aed-a9df-9207054f5ef3"
      },
      "execution_count": 127,
      "outputs": [
        {
          "output_type": "execute_result",
          "data": {
            "text/plain": [
              "42"
            ]
          },
          "metadata": {},
          "execution_count": 127
        }
      ]
    },
    {
      "cell_type": "code",
      "source": [
        "# Challenge: 1) import math module 2) print out value of pi  3) print out value of e\n",
        "import math\n",
        "math.pi"
      ],
      "metadata": {
        "colab": {
          "base_uri": "https://localhost:8080/"
        },
        "id": "t-GFiSWMg8ky",
        "outputId": "ff1f2344-05ab-40be-8361-37fe453e2068"
      },
      "execution_count": 128,
      "outputs": [
        {
          "output_type": "execute_result",
          "data": {
            "text/plain": [
              "3.141592653589793"
            ]
          },
          "metadata": {},
          "execution_count": 128
        }
      ]
    },
    {
      "cell_type": "code",
      "source": [
        "math.e"
      ],
      "metadata": {
        "colab": {
          "base_uri": "https://localhost:8080/"
        },
        "id": "kTRby3pviD35",
        "outputId": "b4ad212e-d16d-4b5a-8186-1c16344ade64"
      },
      "execution_count": 129,
      "outputs": [
        {
          "output_type": "execute_result",
          "data": {
            "text/plain": [
              "2.718281828459045"
            ]
          },
          "metadata": {},
          "execution_count": 129
        }
      ]
    },
    {
      "cell_type": "code",
      "source": [
        "from life import theAnswer"
      ],
      "metadata": {
        "id": "AxQF4AyziIP-"
      },
      "execution_count": 130,
      "outputs": []
    },
    {
      "cell_type": "code",
      "source": [
        "myFavouriteNumber = theAnswer\n",
        "print(myFavouriteNumber)"
      ],
      "metadata": {
        "colab": {
          "base_uri": "https://localhost:8080/"
        },
        "id": "SVmelHWwjiuz",
        "outputId": "5355ef27-4950-40ef-b4d8-a7654a34d79e"
      },
      "execution_count": 131,
      "outputs": [
        {
          "output_type": "stream",
          "name": "stdout",
          "text": [
            "42\n"
          ]
        }
      ]
    },
    {
      "cell_type": "code",
      "source": [
        "theAnswer = theAnswer + 1\n",
        "print(theAnswer)"
      ],
      "metadata": {
        "colab": {
          "base_uri": "https://localhost:8080/"
        },
        "id": "r45CPSxBj8-N",
        "outputId": "23c57e35-8151-4e77-c582-1af4e16cb118"
      },
      "execution_count": 132,
      "outputs": [
        {
          "output_type": "stream",
          "name": "stdout",
          "text": [
            "43\n"
          ]
        }
      ]
    },
    {
      "cell_type": "code",
      "source": [
        "hitchhickersGuide.quote_marvin()"
      ],
      "metadata": {
        "colab": {
          "base_uri": "https://localhost:8080/"
        },
        "id": "mwMcvYgU-ebi",
        "outputId": "21199526-a29f-4a25-d71a-3602731fb7a3"
      },
      "execution_count": 133,
      "outputs": [
        {
          "output_type": "stream",
          "name": "stdout",
          "text": [
            "I've have calculated your chances of survival. But I don't think you'll like it \n"
          ]
        }
      ]
    },
    {
      "cell_type": "code",
      "source": [
        "# hitchhickersGuide.square_root(67)"
      ],
      "metadata": {
        "id": "1avCuJqYkKRL"
      },
      "execution_count": 134,
      "outputs": []
    },
    {
      "cell_type": "code",
      "source": [
        "time = data[['Time_Delay_in_Minutes']]\n",
        "LSD = data[['LSD_ppm']]\n",
        "score = data[['Avg_Math_Test_Score']]"
      ],
      "metadata": {
        "id": "LCPcGxTHsNrp"
      },
      "execution_count": 140,
      "outputs": []
    },
    {
      "cell_type": "code",
      "source": [
        "%matplotlib inline\n",
        "\n",
        "plt.title('Tissue concentration of LSD over time', fontsize=17)\n",
        "plt.xlabel('Time in Minutes', fontsize=14)\n",
        "plt.ylabel('Tissue LSD ppm', fontsize=14)\n",
        "plt.text(x=0, y=-0.5, s='wagner et al. (1968)', fontsize=12)\n",
        "plt.xticks(fontsize=14)\n",
        "plt.yticks(fontsize=14)\n",
        "\n",
        "plt.ylim(1,7)\n",
        "plt.xlim(0,500)\n",
        "\n",
        "plt.style.use('classic')\n",
        "\n",
        "plt.plot(time, LSD, color='#e74c3c', linewidth=3)\n",
        "plt.show()\n"
      ],
      "metadata": {
        "colab": {
          "base_uri": "https://localhost:8080/",
          "height": 332
        },
        "id": "G0isF7Sp7ZyT",
        "outputId": "ba761720-ca82-4f52-d69f-346be4306865"
      },
      "execution_count": 136,
      "outputs": [
        {
          "output_type": "display_data",
          "data": {
            "text/plain": [
              "<Figure size 432x288 with 1 Axes>"
            ],
            "image/png": "[encoded data removed]"
          },
          "metadata": {
            "needs_background": "light"
          }
        }
      ]
    },
    {
      "cell_type": "code",
      "source": [
        "regr = LinearRegression()\n",
        "regr.fit(LSD, score)\n",
        "print('Thetal:',regr.coef_[0][0])\n",
        "print('Intercept: ', regr.intercept_[0])\n",
        "print('R-Square: ', regr.score(LSD, score))\n",
        "predicted_score = regr.predict(LSD)"
      ],
      "metadata": {
        "id": "3QfG5xea9Alk",
        "colab": {
          "base_uri": "https://localhost:8080/"
        },
        "outputId": "d3f18098-a6f9-484a-aaa8-724ffa07bf20"
      },
      "execution_count": 167,
      "outputs": [
        {
          "output_type": "stream",
          "name": "stdout",
          "text": [
            "Thetal: -9.009466415296782\n",
            "Intercept:  89.12387376799305\n",
            "R-Square:  0.8778349707775888\n"
          ]
        }
      ]
    },
    {
      "cell_type": "code",
      "source": [
        "%matplotlib inline\n",
        "\n",
        "# Challenge: add title 'Arithmetic vs LSD-25'\n",
        "# Add label on X axis 'Tissue LSD ppm'\n",
        "# Add label on y axis 'Performance Score' \n",
        "plt.title('Arithmetic vs LSD-25', fontsize=17)\n",
        "plt.xlabel('Tissue LSD ppm',  fontsize=14)\n",
        "plt.ylabel('Performance Score',  fontsize=14)\n",
        "plt.ylim(25,85)\n",
        "plt.xlim(1, 6.5)\n",
        "plt.style.use('fivethirtyeight')\n",
        "\n",
        "\n",
        "plt.scatter(LSD, score, color='blue', s=100, alpha=0.7)\n",
        "plt.plot(LSD, predicted_score, color='red', linewidth=3)\n",
        "plt.show()"
      ],
      "metadata": {
        "colab": {
          "base_uri": "https://localhost:8080/",
          "height": 306
        },
        "id": "pKb-BPWWUNVg",
        "outputId": "2d9d988e-6f82-47ec-f837-0338e08d61dd"
      },
      "execution_count": 171,
      "outputs": [
        {
          "output_type": "display_data",
          "data": {
            "text/plain": [
              "<Figure size 432x288 with 1 Axes>"
            ],
            "image/png": "[encoded data removed]"
          },
          "metadata": {
            "needs_background": "light"
          }
        }
      ]
    },
    {
      "cell_type": "code",
      "source": [
        ""
      ],
      "metadata": {
        "id": "CSX4n6m6LweG"
      },
      "execution_count": 137,
      "outputs": []
    }
  ]
}