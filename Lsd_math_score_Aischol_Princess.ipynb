{
  "nbformat": 4,
  "nbformat_minor": 0,
  "metadata": {
    "colab": {
      "name": "Lsd_math_score_Aischol_Princess.ipynb",
      "provenance": [],
      "collapsed_sections": [],
      "include_colab_link": true
    },
    "kernelspec": {
      "name": "python3",
      "display_name": "Python 3"
    },
    "language_info": {
      "name": "python"
    }
  },
  "cells": [
    {
      "cell_type": "markdown",
      "metadata": {
        "id": "view-in-github",
        "colab_type": "text"
      },
      "source": [
        "<a href=\"https://colab.research.google.com/github/Princess-Mcdonald/Ai-school-princess/blob/main/Lsd_math_score_Aischol_Princess.ipynb\" target=\"_parent\"><img src=\"https://colab.research.google.com/assets/colab-badge.svg\" alt=\"Open In Colab\"/></a>"
      ]
    },
    {
      "cell_type": "code",
      "execution_count": 1,
      "metadata": {
        "id": "Tt3U5nIszvgS"
      },
      "outputs": [],
      "source": [
        "import pandas as pd\n",
        "data = pd.read_csv('/content/lsd_math_score_data.csv')"
      ]
    },
    {
      "cell_type": "code",
      "source": [
        "print(data)"
      ],
      "metadata": {
        "colab": {
          "base_uri": "https://localhost:8080/"
        },
        "id": "POvXd9vI0rPQ",
        "outputId": "7a7a1bf6-086d-4580-d4b2-e03f0e2951a9"
      },
      "execution_count": 2,
      "outputs": [
        {
          "output_type": "stream",
          "name": "stdout",
          "text": [
            "   Time_Delay_in_Minutes  LSD_ppm  Avg_Math_Test_Score\n",
            "0                      5     1.17                78.93\n",
            "1                     15     2.97                58.20\n",
            "2                     30     3.26                67.47\n",
            "3                     60     4.69                37.47\n",
            "4                    120     5.83                45.65\n",
            "5                    240     6.00                32.92\n",
            "6                    480     6.41                29.97\n"
          ]
        }
      ]
    },
    {
      "cell_type": "code",
      "source": [
        "type(data)"
      ],
      "metadata": {
        "colab": {
          "base_uri": "https://localhost:8080/"
        },
        "id": "39absRY50yK5",
        "outputId": "95ef4cbc-c712-41ca-f620-4bbf4a0cdbfe"
      },
      "execution_count": 3,
      "outputs": [
        {
          "output_type": "execute_result",
          "data": {
            "text/plain": [
              "pandas.core.frame.DataFrame"
            ]
          },
          "metadata": {},
          "execution_count": 3
        }
      ]
    },
    {
      "cell_type": "code",
      "source": [
        "# extacting a data from a single column\n",
        "data['Avg_Math_Test_Score']"
      ],
      "metadata": {
        "colab": {
          "base_uri": "https://localhost:8080/"
        },
        "id": "abJqJyGY01Sz",
        "outputId": "1910ddd1-71bb-4020-f92e-bf980fa0c696"
      },
      "execution_count": 4,
      "outputs": [
        {
          "output_type": "execute_result",
          "data": {
            "text/plain": [
              "0    78.93\n",
              "1    58.20\n",
              "2    67.47\n",
              "3    37.47\n",
              "4    45.65\n",
              "5    32.92\n",
              "6    29.97\n",
              "Name: Avg_Math_Test_Score, dtype: float64"
            ]
          },
          "metadata": {},
          "execution_count": 4
        }
      ]
    },
    {
      "cell_type": "code",
      "source": [
        "# storing a dataframe in a variable\n",
        "onlymathscores = data['Avg_Math_Test_Score']\n",
        "print(onlymathscores)"
      ],
      "metadata": {
        "colab": {
          "base_uri": "https://localhost:8080/"
        },
        "id": "d9wA6umg2a89",
        "outputId": "95fe4c78-761f-4311-e626-ee81d16f25a5"
      },
      "execution_count": 5,
      "outputs": [
        {
          "output_type": "stream",
          "name": "stdout",
          "text": [
            "0    78.93\n",
            "1    58.20\n",
            "2    67.47\n",
            "3    37.47\n",
            "4    45.65\n",
            "5    32.92\n",
            "6    29.97\n",
            "Name: Avg_Math_Test_Score, dtype: float64\n"
          ]
        }
      ]
    },
    {
      "cell_type": "code",
      "source": [
        " # adding a column\n",
        " data['Test_Subject'] = 'Jennifer Lopez'"
      ],
      "metadata": {
        "id": "ghYOpE_w3RiV"
      },
      "execution_count": 6,
      "outputs": []
    },
    {
      "cell_type": "code",
      "source": [
        "print(data)"
      ],
      "metadata": {
        "colab": {
          "base_uri": "https://localhost:8080/"
        },
        "id": "jVj0YAp-4oO4",
        "outputId": "2643d25d-c1b4-4789-b649-7f10209daedb"
      },
      "execution_count": 7,
      "outputs": [
        {
          "output_type": "stream",
          "name": "stdout",
          "text": [
            "   Time_Delay_in_Minutes  LSD_ppm  Avg_Math_Test_Score    Test_Subject\n",
            "0                      5     1.17                78.93  Jennifer Lopez\n",
            "1                     15     2.97                58.20  Jennifer Lopez\n",
            "2                     30     3.26                67.47  Jennifer Lopez\n",
            "3                     60     4.69                37.47  Jennifer Lopez\n",
            "4                    120     5.83                45.65  Jennifer Lopez\n",
            "5                    240     6.00                32.92  Jennifer Lopez\n",
            "6                    480     6.41                29.97  Jennifer Lopez\n"
          ]
        }
      ]
    },
    {
      "cell_type": "code",
      "source": [
        "# Manipulating the value of a column\n",
        "data ['High_score'] = 100"
      ],
      "metadata": {
        "id": "vqRcXFrh5d6K"
      },
      "execution_count": 8,
      "outputs": []
    },
    {
      "cell_type": "code",
      "source": [
        "print(data)"
      ],
      "metadata": {
        "colab": {
          "base_uri": "https://localhost:8080/"
        },
        "id": "4ENCyrSG6DB5",
        "outputId": "1abfd74b-5081-4556-b3e6-b9108a82ba40"
      },
      "execution_count": 9,
      "outputs": [
        {
          "output_type": "stream",
          "name": "stdout",
          "text": [
            "   Time_Delay_in_Minutes  LSD_ppm  Avg_Math_Test_Score    Test_Subject  \\\n",
            "0                      5     1.17                78.93  Jennifer Lopez   \n",
            "1                     15     2.97                58.20  Jennifer Lopez   \n",
            "2                     30     3.26                67.47  Jennifer Lopez   \n",
            "3                     60     4.69                37.47  Jennifer Lopez   \n",
            "4                    120     5.83                45.65  Jennifer Lopez   \n",
            "5                    240     6.00                32.92  Jennifer Lopez   \n",
            "6                    480     6.41                29.97  Jennifer Lopez   \n",
            "\n",
            "   High_score  \n",
            "0         100  \n",
            "1         100  \n",
            "2         100  \n",
            "3         100  \n",
            "4         100  \n",
            "5         100  \n",
            "6         100  \n"
          ]
        }
      ]
    },
    {
      "cell_type": "code",
      "source": [
        "# Challenge: Overwrite the values in rows for High_score to equal Avg_Math_Test_Score + 100 (How to add 2 columns together)\n",
        "data['High_score'] = data['High_score'] + data['Avg_Math_Test_Score']\n",
        "print(data)"
      ],
      "metadata": {
        "colab": {
          "base_uri": "https://localhost:8080/"
        },
        "id": "8zJEvIjt6HWQ",
        "outputId": "bcd2f3c6-a4d5-406f-ef13-b880cd6d1716"
      },
      "execution_count": 10,
      "outputs": [
        {
          "output_type": "stream",
          "name": "stdout",
          "text": [
            "   Time_Delay_in_Minutes  LSD_ppm  Avg_Math_Test_Score    Test_Subject  \\\n",
            "0                      5     1.17                78.93  Jennifer Lopez   \n",
            "1                     15     2.97                58.20  Jennifer Lopez   \n",
            "2                     30     3.26                67.47  Jennifer Lopez   \n",
            "3                     60     4.69                37.47  Jennifer Lopez   \n",
            "4                    120     5.83                45.65  Jennifer Lopez   \n",
            "5                    240     6.00                32.92  Jennifer Lopez   \n",
            "6                    480     6.41                29.97  Jennifer Lopez   \n",
            "\n",
            "   High_score  \n",
            "0      178.93  \n",
            "1      158.20  \n",
            "2      167.47  \n",
            "3      137.47  \n",
            "4      145.65  \n",
            "5      132.92  \n",
            "6      129.97  \n"
          ]
        }
      ]
    },
    {
      "cell_type": "code",
      "source": [
        "# Challenge: Square the values stored inside High_score\n",
        "data ['High_score'] = data ['High_score'] ** 2\n",
        "print(data)"
      ],
      "metadata": {
        "colab": {
          "base_uri": "https://localhost:8080/"
        },
        "id": "d8WJd5sP7h7R",
        "outputId": "507857f7-b18b-477b-aea6-6d9d282fbf3d"
      },
      "execution_count": 11,
      "outputs": [
        {
          "output_type": "stream",
          "name": "stdout",
          "text": [
            "   Time_Delay_in_Minutes  LSD_ppm  Avg_Math_Test_Score    Test_Subject  \\\n",
            "0                      5     1.17                78.93  Jennifer Lopez   \n",
            "1                     15     2.97                58.20  Jennifer Lopez   \n",
            "2                     30     3.26                67.47  Jennifer Lopez   \n",
            "3                     60     4.69                37.47  Jennifer Lopez   \n",
            "4                    120     5.83                45.65  Jennifer Lopez   \n",
            "5                    240     6.00                32.92  Jennifer Lopez   \n",
            "6                    480     6.41                29.97  Jennifer Lopez   \n",
            "\n",
            "   High_score  \n",
            "0  32015.9449  \n",
            "1  25027.2400  \n",
            "2  28046.2009  \n",
            "3  18898.0009  \n",
            "4  21213.9225  \n",
            "5  17667.7264  \n",
            "6  16892.2009  \n"
          ]
        }
      ]
    },
    {
      "cell_type": "code",
      "source": [
        "type(onlymathscores)"
      ],
      "metadata": {
        "colab": {
          "base_uri": "https://localhost:8080/"
        },
        "id": "B9mCJQqC9NAQ",
        "outputId": "35a18cea-a842-41ea-8c08-5c2e76a90c47"
      },
      "execution_count": 12,
      "outputs": [
        {
          "output_type": "execute_result",
          "data": {
            "text/plain": [
              "pandas.core.series.Series"
            ]
          },
          "metadata": {},
          "execution_count": 12
        }
      ]
    },
    {
      "cell_type": "code",
      "source": [
        "# creating a sub dataframe from the main dataframe\n",
        "# Challenge: create a list called columnList. Put 'LSD_ppm' and 'Avg_Math_Test_Score' inside.\n",
        "# columnList = ['LSD_ppm', 'Avg_Math_Test_Score']\n",
        "# subDataFrame = data[columnList]\n",
        "subDataFrame = data[['LSD_ppm', 'Avg_Math_Test_Score']]\n",
        "print(subDataFrame)"
      ],
      "metadata": {
        "colab": {
          "base_uri": "https://localhost:8080/"
        },
        "id": "a0QkCRc3CuFN",
        "outputId": "f59598eb-0e41-43fa-e6a5-e6875d5513c7"
      },
      "execution_count": 13,
      "outputs": [
        {
          "output_type": "stream",
          "name": "stdout",
          "text": [
            "   LSD_ppm  Avg_Math_Test_Score\n",
            "0     1.17                78.93\n",
            "1     2.97                58.20\n",
            "2     3.26                67.47\n",
            "3     4.69                37.47\n",
            "4     5.83                45.65\n",
            "5     6.00                32.92\n",
            "6     6.41                29.97\n"
          ]
        }
      ]
    },
    {
      "cell_type": "code",
      "source": [
        "# creating a dataframe with a single column(will be used when working with Sickit Learn)\n",
        "y = data[['Avg_Math_Test_Score']]\n",
        "print(y)\n",
        "type(y)"
      ],
      "metadata": {
        "colab": {
          "base_uri": "https://localhost:8080/"
        },
        "id": "rAL9AVPpE_gd",
        "outputId": "359ef249-9601-4ab2-958a-13d02f70e5ae"
      },
      "execution_count": 14,
      "outputs": [
        {
          "output_type": "stream",
          "name": "stdout",
          "text": [
            "   Avg_Math_Test_Score\n",
            "0                78.93\n",
            "1                58.20\n",
            "2                67.47\n",
            "3                37.47\n",
            "4                45.65\n",
            "5                32.92\n",
            "6                29.97\n"
          ]
        },
        {
          "output_type": "execute_result",
          "data": {
            "text/plain": [
              "pandas.core.frame.DataFrame"
            ]
          },
          "metadata": {},
          "execution_count": 14
        }
      ]
    },
    {
      "cell_type": "code",
      "source": [
        "# Challenge: 1) Create a variable called x\n",
        "#  Set x equal to the values of LSD_ppm\n",
        "#  Make sure x is a dataframe\n",
        "# 2)Print the value of x\n",
        "# 3) Show the type of x\n",
        "x = data[['LSD_ppm']]\n",
        "print(x)\n",
        "type(x)"
      ],
      "metadata": {
        "colab": {
          "base_uri": "https://localhost:8080/"
        },
        "id": "IMu3WPZHHOdn",
        "outputId": "ba37725e-e349-4045-b2cd-da528026092c"
      },
      "execution_count": 15,
      "outputs": [
        {
          "output_type": "stream",
          "name": "stdout",
          "text": [
            "   LSD_ppm\n",
            "0     1.17\n",
            "1     2.97\n",
            "2     3.26\n",
            "3     4.69\n",
            "4     5.83\n",
            "5     6.00\n",
            "6     6.41\n"
          ]
        },
        {
          "output_type": "execute_result",
          "data": {
            "text/plain": [
              "pandas.core.frame.DataFrame"
            ]
          },
          "metadata": {},
          "execution_count": 15
        }
      ]
    },
    {
      "cell_type": "code",
      "source": [
        "del data['Test_Subject']\n",
        "print(data)"
      ],
      "metadata": {
        "colab": {
          "base_uri": "https://localhost:8080/"
        },
        "id": "kwZq1j1RKr4H",
        "outputId": "eb04c340-fe8d-41ba-904b-42dc5b8d9382"
      },
      "execution_count": 16,
      "outputs": [
        {
          "output_type": "stream",
          "name": "stdout",
          "text": [
            "   Time_Delay_in_Minutes  LSD_ppm  Avg_Math_Test_Score  High_score\n",
            "0                      5     1.17                78.93  32015.9449\n",
            "1                     15     2.97                58.20  25027.2400\n",
            "2                     30     3.26                67.47  28046.2009\n",
            "3                     60     4.69                37.47  18898.0009\n",
            "4                    120     5.83                45.65  21213.9225\n",
            "5                    240     6.00                32.92  17667.7264\n",
            "6                    480     6.41                29.97  16892.2009\n"
          ]
        }
      ]
    },
    {
      "cell_type": "code",
      "source": [
        "# Challenge: Delete High_Score column from data\n",
        "del data['High_score']\n",
        "print(data)"
      ],
      "metadata": {
        "colab": {
          "base_uri": "https://localhost:8080/"
        },
        "id": "gKWKx7zBObxE",
        "outputId": "0592ff29-56b9-4e1c-f3fc-b813c8170f6e"
      },
      "execution_count": 17,
      "outputs": [
        {
          "output_type": "stream",
          "name": "stdout",
          "text": [
            "   Time_Delay_in_Minutes  LSD_ppm  Avg_Math_Test_Score\n",
            "0                      5     1.17                78.93\n",
            "1                     15     2.97                58.20\n",
            "2                     30     3.26                67.47\n",
            "3                     60     4.69                37.47\n",
            "4                    120     5.83                45.65\n",
            "5                    240     6.00                32.92\n",
            "6                    480     6.41                29.97\n"
          ]
        }
      ]
    },
    {
      "cell_type": "code",
      "source": [
        "import life as hitchhickersGuide"
      ],
      "metadata": {
        "id": "OaZZvz0hOyjw"
      },
      "execution_count": 18,
      "outputs": []
    },
    {
      "cell_type": "code",
      "source": [
        "type(hitchhickersGuide)"
      ],
      "metadata": {
        "colab": {
          "base_uri": "https://localhost:8080/"
        },
        "id": "SCDHYsPkgx-E",
        "outputId": "0e3b0a5c-c97c-4801-bdd2-d12c9484e082"
      },
      "execution_count": 19,
      "outputs": [
        {
          "output_type": "execute_result",
          "data": {
            "text/plain": [
              "module"
            ]
          },
          "metadata": {},
          "execution_count": 19
        }
      ]
    },
    {
      "cell_type": "code",
      "source": [
        "hitchhickersGuide.theAnswer"
      ],
      "metadata": {
        "colab": {
          "base_uri": "https://localhost:8080/"
        },
        "id": "UDTL07JTg1HC",
        "outputId": "9ead40da-40af-4b1c-870a-fc0c255d89bb"
      },
      "execution_count": 20,
      "outputs": [
        {
          "output_type": "execute_result",
          "data": {
            "text/plain": [
              "42"
            ]
          },
          "metadata": {},
          "execution_count": 20
        }
      ]
    },
    {
      "cell_type": "code",
      "source": [
        "# Challenge: 1) import math module 2) print out value of pi  3) print out value of e\n",
        "import math\n",
        "math.pi"
      ],
      "metadata": {
        "colab": {
          "base_uri": "https://localhost:8080/"
        },
        "id": "t-GFiSWMg8ky",
        "outputId": "c92f05d0-217d-4cb5-989e-f497506d4747"
      },
      "execution_count": 21,
      "outputs": [
        {
          "output_type": "execute_result",
          "data": {
            "text/plain": [
              "3.141592653589793"
            ]
          },
          "metadata": {},
          "execution_count": 21
        }
      ]
    },
    {
      "cell_type": "code",
      "source": [
        "math.e"
      ],
      "metadata": {
        "colab": {
          "base_uri": "https://localhost:8080/"
        },
        "id": "kTRby3pviD35",
        "outputId": "a48cbe24-a69d-43b9-e45c-6681320b1b9c"
      },
      "execution_count": 22,
      "outputs": [
        {
          "output_type": "execute_result",
          "data": {
            "text/plain": [
              "2.718281828459045"
            ]
          },
          "metadata": {},
          "execution_count": 22
        }
      ]
    },
    {
      "cell_type": "code",
      "source": [
        "from life import theAnswer"
      ],
      "metadata": {
        "id": "AxQF4AyziIP-"
      },
      "execution_count": 23,
      "outputs": []
    },
    {
      "cell_type": "code",
      "source": [
        "myFavouriteNumber = theAnswer\n",
        "print(myFavouriteNumber)"
      ],
      "metadata": {
        "colab": {
          "base_uri": "https://localhost:8080/"
        },
        "id": "SVmelHWwjiuz",
        "outputId": "6e60004c-86f1-42a7-fed4-9248264468c8"
      },
      "execution_count": 24,
      "outputs": [
        {
          "output_type": "stream",
          "name": "stdout",
          "text": [
            "42\n"
          ]
        }
      ]
    },
    {
      "cell_type": "code",
      "source": [
        "theAnswer = theAnswer + 1\n",
        "print(theAnswer)"
      ],
      "metadata": {
        "colab": {
          "base_uri": "https://localhost:8080/"
        },
        "id": "r45CPSxBj8-N",
        "outputId": "09fec3c1-e204-4ac2-d5ed-740f1f34c11b"
      },
      "execution_count": 25,
      "outputs": [
        {
          "output_type": "stream",
          "name": "stdout",
          "text": [
            "43\n"
          ]
        }
      ]
    },
    {
      "cell_type": "code",
      "source": [
        ""
      ],
      "metadata": {
        "id": "1avCuJqYkKRL"
      },
      "execution_count": 25,
      "outputs": []
    }
  ]
}