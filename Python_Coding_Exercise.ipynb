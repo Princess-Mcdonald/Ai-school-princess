{
  "nbformat": 4,
  "nbformat_minor": 0,
  "metadata": {
    "colab": {
      "name": "Python Coding Exercise.ipynb",
      "provenance": [],
      "authorship_tag": "ABX9TyOZNU7SODGEkjCZ4luuDi59",
      "include_colab_link": true
    },
    "kernelspec": {
      "name": "python3",
      "display_name": "Python 3"
    },
    "language_info": {
      "name": "python"
    }
  },
  "cells": [
    {
      "cell_type": "markdown",
      "metadata": {
        "id": "view-in-github",
        "colab_type": "text"
      },
      "source": [
        "<a href=\"https://colab.research.google.com/github/Princess-Mcdonald/Ai-school-princess/blob/main/Python_Coding_Exercise.ipynb\" target=\"_parent\"><img src=\"https://colab.research.google.com/assets/colab-badge.svg\" alt=\"Open In Colab\"/></a>"
      ]
    },
    {
      "cell_type": "markdown",
      "source": [
        "## Phython variable coding exercise.\n"
      ],
      "metadata": {
        "id": "OfQsIZrg_raQ"
      }
    },
    {
      "cell_type": "code",
      "source": [
        "a = 'hello'\n",
        "b = 'world'\n",
        "c = a\n",
        "a = b\n",
        "b = c\n",
        "print(a,b)"
      ],
      "metadata": {
        "colab": {
          "base_uri": "https://localhost:8080/"
        },
        "id": "pVMIX8JF-8kZ",
        "outputId": "49f787ab-094e-459b-b9a6-6912745ffa63"
      },
      "execution_count": 10,
      "outputs": [
        {
          "output_type": "stream",
          "name": "stdout",
          "text": [
            "world hello\n"
          ]
        }
      ]
    },
    {
      "cell_type": "code",
      "source": [
        "\n",
        "def test(A, B):\n",
        "    \n",
        "    a = A\n",
        "    b = B\n",
        "    \n",
        "    # TODO: Below this comment write your code.\n",
        "    d = a\n",
        "    a = b\n",
        "    b = d\n",
        "\n",
        " # Leave this line alone as well\n",
        "    return (a, b)\n",
        "\n",
        "print(test(1, 2))\n",
        "\n",
        "\n"
      ],
      "metadata": {
        "colab": {
          "base_uri": "https://localhost:8080/"
        },
        "id": "GnBeY73HB5i4",
        "outputId": "ad6a6b1a-8b9f-4ac6-8b65-02c430f4636f"
      },
      "execution_count": 12,
      "outputs": [
        {
          "output_type": "stream",
          "name": "stdout",
          "text": [
            "(2, 1)\n"
          ]
        }
      ]
    }
  ]
}