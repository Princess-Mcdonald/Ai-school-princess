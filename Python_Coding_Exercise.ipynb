{
  "nbformat": 4,
  "nbformat_minor": 0,
  "metadata": {
    "colab": {
      "name": "Python Coding Exercise.ipynb",
      "provenance": [],
      "collapsed_sections": [],
      "authorship_tag": "ABX9TyNGPzD7ibGpWX3R+hdS5LHV",
      "include_colab_link": true
    },
    "kernelspec": {
      "name": "python3",
      "display_name": "Python 3"
    },
    "language_info": {
      "name": "python"
    }
  },
  "cells": [
    {
      "cell_type": "markdown",
      "metadata": {
        "id": "view-in-github",
        "colab_type": "text"
      },
      "source": [
        "<a href=\"https://colab.research.google.com/github/Princess-Mcdonald/Ai-school-princess/blob/main/Python_Coding_Exercise.ipynb\" target=\"_parent\"><img src=\"https://colab.research.google.com/assets/colab-badge.svg\" alt=\"Open In Colab\"/></a>"
      ]
    },
    {
      "cell_type": "markdown",
      "source": [
        "## Phython variable coding exercise.\n"
      ],
      "metadata": {
        "id": "OfQsIZrg_raQ"
      }
    },
    {
      "cell_type": "code",
      "source": [
        "a = 'hello'\n",
        "b = 'world'\n",
        "c = a\n",
        "a = b\n",
        "b = c\n",
        "print(a,b)"
      ],
      "metadata": {
        "colab": {
          "base_uri": "https://localhost:8080/"
        },
        "id": "pVMIX8JF-8kZ",
        "outputId": "49f787ab-094e-459b-b9a6-6912745ffa63"
      },
      "execution_count": 10,
      "outputs": [
        {
          "output_type": "stream",
          "name": "stdout",
          "text": [
            "world hello\n"
          ]
        }
      ]
    },
    {
      "cell_type": "code",
      "source": [
        "\n",
        "def test(A, B):\n",
        "    \n",
        "    a = A\n",
        "    b = B\n",
        "    \n",
        "    # TODO: Below this comment write your code.\n",
        "    d = a\n",
        "    a = b\n",
        "    b = d\n",
        "\n",
        " # Leave this line alone as well\n",
        "    return (a, b)\n",
        "\n",
        "print(test(1, 2))\n",
        "\n",
        "\n"
      ],
      "metadata": {
        "colab": {
          "base_uri": "https://localhost:8080/"
        },
        "id": "GnBeY73HB5i4",
        "outputId": "ad6a6b1a-8b9f-4ac6-8b65-02c430f4636f"
      },
      "execution_count": 12,
      "outputs": [
        {
          "output_type": "stream",
          "name": "stdout",
          "text": [
            "(2, 1)\n"
          ]
        }
      ]
    },
    {
      "cell_type": "markdown",
      "source": [
        "## Python List Exercise"
      ],
      "metadata": {
        "id": "W1yHM0ukHRIl"
      }
    },
    {
      "cell_type": "code",
      "source": [
        "def top_three(scores):\n",
        "    scores = scores\n",
        "    top_scores = []\n",
        "    \n",
        "    top_scores = sorted(scores, reverse=True)[:3]\n",
        "    \n",
        "    \n",
        "    \n",
        "    # Leave this line alone\n",
        "    return top_scores\n",
        "\n",
        "print(top_three([43, 12, 6, 78, 2, 14]))\n"
      ],
      "metadata": {
        "colab": {
          "base_uri": "https://localhost:8080/"
        },
        "id": "mNJ-iuQLG8Tt",
        "outputId": "3bebc7a5-2f14-4708-fe00-37c6746f7454"
      },
      "execution_count": 13,
      "outputs": [
        {
          "output_type": "stream",
          "name": "stdout",
          "text": [
            "[78, 43, 14]\n"
          ]
        }
      ]
    },
    {
      "cell_type": "markdown",
      "source": [
        "## Function Exercise 3"
      ],
      "metadata": {
        "id": "XVHIPeZ7JvVR"
      }
    },
    {
      "cell_type": "code",
      "source": [
        "# TODO 1: Add two parameters (length_ft and width_ft)\n",
        "def calc_square_meters_from_feet(length_ft, width_ft):\n",
        "    \n",
        "    \n",
        "    # TODO 2: Modify the code below:\n",
        "    feet_area = length_ft * width_ft\n",
        "    metric_area = feet_area * pow(.3048, 2)\n",
        "    metric_area = float(\"{:.4f}\".format(metric_area))\n",
        "  \n",
        "    # Leave the line below as it is\n",
        "    return metric_area\n",
        "print(calc_square_meters_from_feet(4, 7))   \n"
      ],
      "metadata": {
        "colab": {
          "base_uri": "https://localhost:8080/"
        },
        "id": "GYQF2UZLJpvi",
        "outputId": "2303aaf4-d9ab-48e3-a649-56423041a343"
      },
      "execution_count": 35,
      "outputs": [
        {
          "output_type": "stream",
          "name": "stdout",
          "text": [
            "2.6013\n"
          ]
        }
      ]
    },
    {
      "cell_type": "markdown",
      "source": [
        "## Function Exercise 4"
      ],
      "metadata": {
        "id": "3qR37OfTKmSv"
      }
    },
    {
      "cell_type": "code",
      "source": [
        "# TODO: Write a function called concatenate_lists that has two parameters and returns the combined list. \n",
        "list_a = ['a','b','c']\n",
        "list_b = [1,2,3]\n",
        "def concatenate_lists(list_a, list_b):\n",
        "    return list_a + list_b  \n",
        "\n",
        "print(concatenate_lists(list_a, list_b))   "
      ],
      "metadata": {
        "colab": {
          "base_uri": "https://localhost:8080/"
        },
        "id": "O6HvuQqNKfzV",
        "outputId": "378ce306-f620-4411-cc1a-03224cb2f555"
      },
      "execution_count": 24,
      "outputs": [
        {
          "output_type": "stream",
          "name": "stdout",
          "text": [
            "['a', 'b', 'c', 1, 2, 3]\n"
          ]
        }
      ]
    }
  ]
}