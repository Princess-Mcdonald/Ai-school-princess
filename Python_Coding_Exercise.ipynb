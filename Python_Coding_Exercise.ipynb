{
  "nbformat": 4,
  "nbformat_minor": 0,
  "metadata": {
    "colab": {
      "name": "Python Coding Exercise.ipynb",
      "provenance": [],
      "authorship_tag": "ABX9TyNoed3p3RdeRfjuthexGZnc",
      "include_colab_link": true
    },
    "kernelspec": {
      "name": "python3",
      "display_name": "Python 3"
    },
    "language_info": {
      "name": "python"
    }
  },
  "cells": [
    {
      "cell_type": "markdown",
      "metadata": {
        "id": "view-in-github",
        "colab_type": "text"
      },
      "source": [
        "<a href=\"https://colab.research.google.com/github/Princess-Mcdonald/Ai-school-princess/blob/main/Python_Coding_Exercise.ipynb\" target=\"_parent\"><img src=\"https://colab.research.google.com/assets/colab-badge.svg\" alt=\"Open In Colab\"/></a>"
      ]
    },
    {
      "cell_type": "markdown",
      "source": [
        "## Phython variable coding exercise.\n"
      ],
      "metadata": {
        "id": "OfQsIZrg_raQ"
      }
    },
    {
      "cell_type": "code",
      "source": [
        "a = 'hello'\n",
        "b = 'world'\n",
        "c = a\n",
        "a = b\n",
        "b = c\n",
        "print(a,b)"
      ],
      "metadata": {
        "id": "pVMIX8JF-8kZ"
      },
      "execution_count": null,
      "outputs": []
    }
  ]
}